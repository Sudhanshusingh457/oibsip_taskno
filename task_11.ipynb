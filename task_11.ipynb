{
  "nbformat": 4,
  "nbformat_minor": 0,
  "metadata": {
    "colab": {
      "provenance": []
    },
    "kernelspec": {
      "name": "python3",
      "display_name": "Python 3"
    },
    "language_info": {
      "name": "python"
    }
  },
  "cells": [
    {
      "cell_type": "code",
      "source": [
        "import pandas as pd\n",
        "import numpy as np"
      ],
      "metadata": {
        "id": "3e39WxYbUETF"
      },
      "execution_count": null,
      "outputs": []
    },
    {
      "cell_type": "code",
      "source": [
        "# Load dataset\n",
        "file_path = 'WineQT.csv'\n",
        "data = pd.read_csv(file_path)"
      ],
      "metadata": {
        "id": "BX9IMyM0UEPr"
      },
      "execution_count": null,
      "outputs": []
    },
    {
      "cell_type": "markdown",
      "source": [
        " # Step 1: Data Exploration and Cleaning"
      ],
      "metadata": {
        "id": "qhDN8jEHUL1V"
      }
    },
    {
      "cell_type": "code",
      "source": [
        "\n",
        "# Checking for missing values\n",
        "print(\"Missing values:\\n\", data.isnull().sum())\n",
        "\n",
        "# Drop 'Id' column since it's not useful for prediction\n",
        "data = data.drop(['Id'], axis=1)"
      ],
      "metadata": {
        "id": "69_-_8UJUENM"
      },
      "execution_count": null,
      "outputs": []
    },
    {
      "cell_type": "markdown",
      "source": [
        "# Step 2: Feature Selection\n"
      ],
      "metadata": {
        "id": "PWVAZvw4UX6B"
      }
    },
    {
      "cell_type": "code",
      "source": [
        "# Correlation matrix to understand relationships between features and target (quality)\n",
        "import seaborn as sns\n",
        "\n",
        "plt.figure(figsize=(10, 8))\n",
        "correlation_matrix = data.corr()\n",
        "sns.heatmap(correlation_matrix, annot=True, cmap='coolwarm', fmt='.2f')\n",
        "plt.title('Correlation Matrix')\n",
        "plt.show()\n"
      ],
      "metadata": {
        "id": "ihBGjAFXUEKN"
      },
      "execution_count": null,
      "outputs": []
    },
    {
      "cell_type": "markdown",
      "source": [
        "# Step 3: Preparing the data for model training"
      ],
      "metadata": {
        "id": "YX4fQIMjUgVt"
      }
    },
    {
      "cell_type": "code",
      "source": [
        "from sklearn.model_selection import train_test_split\n",
        "\n",
        "X = data.drop('quality', axis=1)  # Features\n",
        "y = data['quality']  # Target (quality)\n",
        "\n",
        "# Train-test split\n",
        "X_train, X_test, y_train, y_test = train_test_split(X, y, test_size=0.2, random_state=42)"
      ],
      "metadata": {
        "id": "fSDAxul7UEHp"
      },
      "execution_count": null,
      "outputs": []
    },
    {
      "cell_type": "code",
      "source": [
        "# Standardizing the data (important for models like SVM)\n",
        "\n",
        "from sklearn.preprocessing import StandardScaler\n",
        "\n",
        "scaler = StandardScaler()\n",
        "X_train_scaled = scaler.fit_transform(X_train)\n",
        "X_test_scaled = scaler.transform(X_test)"
      ],
      "metadata": {
        "id": "VNWgVy3JUEEx"
      },
      "execution_count": null,
      "outputs": []
    },
    {
      "cell_type": "markdown",
      "source": [
        "# Step 4: Model Training"
      ],
      "metadata": {
        "id": "K9Bll8G-UvE5"
      }
    },
    {
      "cell_type": "code",
      "source": [
        "from sklearn.ensemble import RandomForestClassifier\n",
        "from sklearn.svm import SVC\n",
        "from sklearn.linear_model import SGDClassifier"
      ],
      "metadata": {
        "id": "9NlBw5mtUsY0"
      },
      "execution_count": null,
      "outputs": []
    },
    {
      "cell_type": "code",
      "source": [
        "# Model 1: Random Forest\n",
        "rf_model = RandomForestClassifier(random_state=42)\n",
        "rf_model.fit(X_train, y_train)\n",
        "y_pred_rf = rf_model.predict(X_test)\n",
        "\n",
        "# Model 2: Support Vector Classifier (SVC)\n",
        "svc_model = SVC(random_state=42)\n",
        "svc_model.fit(X_train_scaled, y_train)\n",
        "y_pred_svc = svc_model.predict(X_test_scaled)\n",
        "\n",
        "# Model 3: Stochastic Gradient Descent (SGD)\n",
        "sgd_model = SGDClassifier(random_state=42)\n",
        "sgd_model.fit(X_train_scaled, y_train)\n",
        "y_pred_sgd = sgd_model.predict(X_test_scaled)"
      ],
      "metadata": {
        "id": "d9-OL4Y6UEB9"
      },
      "execution_count": null,
      "outputs": []
    },
    {
      "cell_type": "markdown",
      "source": [
        "\n",
        "\n",
        "# Step 5: Model Evaluation"
      ],
      "metadata": {
        "id": "13cjiB-dUzu9"
      }
    },
    {
      "cell_type": "code",
      "source": [
        "# Random Forest Evaluation\n",
        "from sklearn.metrics import accuracy_score, confusion_matrix, classification_report"
      ],
      "metadata": {
        "id": "_-QIlIC5U2Qn"
      },
      "execution_count": null,
      "outputs": []
    },
    {
      "cell_type": "code",
      "source": [
        "print(\"\\nRandom Forest Results:\")\n",
        "print(\"Accuracy:\", accuracy_score(y_test, y_pred_rf))\n",
        "print(\"Confusion Matrix:\\n\", confusion_matrix(y_test, y_pred_rf))\n",
        "print(classification_report(y_test, y_pred_rf))"
      ],
      "metadata": {
        "id": "DdD-JUUmU5Pc"
      },
      "execution_count": null,
      "outputs": []
    },
    {
      "cell_type": "code",
      "source": [
        "# SVC Evaluation\n",
        "print(\"\\nSupport Vector Classifier Results:\")\n",
        "print(\"Accuracy:\", accuracy_score(y_test, y_pred_svc))\n",
        "print(\"Confusion Matrix:\\n\", confusion_matrix(y_test, y_pred_svc))\n",
        "print(classification_report(y_test, y_pred_svc))"
      ],
      "metadata": {
        "id": "kEWlV2JbU5L4"
      },
      "execution_count": null,
      "outputs": []
    },
    {
      "cell_type": "code",
      "source": [
        "# SGD Evaluation\n",
        "print(\"\\nStochastic Gradient Descent Results:\")\n",
        "print(\"Accuracy:\", accuracy_score(y_test, y_pred_sgd))\n",
        "print(\"Confusion Matrix:\\n\", confusion_matrix(y_test, y_pred_sgd))\n",
        "print(classification_report(y_test, y_pred_sgd))"
      ],
      "metadata": {
        "id": "jqAAcMj9U5Hp"
      },
      "execution_count": null,
      "outputs": []
    },
    {
      "cell_type": "markdown",
      "source": [
        "# Step 6: Visualizations\n"
      ],
      "metadata": {
        "id": "4Rfw6lCyVA2h"
      }
    },
    {
      "cell_type": "code",
      "source": [
        "# Feature importance (Random Forest)\n",
        "importances = rf_model.feature_importances_\n",
        "feature_names = X.columns\n",
        "plt.figure(figsize=(10, 6))\n",
        "sns.barplot(x=importances, y=feature_names)\n",
        "plt.title('Feature Importances from Random Forest')\n",
        "plt.show()"
      ],
      "metadata": {
        "id": "xQeKVn7KU49T"
      },
      "execution_count": null,
      "outputs": []
    }
  ]
}